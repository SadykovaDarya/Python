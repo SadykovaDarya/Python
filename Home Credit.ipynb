{
 "cells": [
  {
   "cell_type": "markdown",
   "metadata": {},
   "source": [
    "#### Импортируем нужные модули"
   ]
  },
  {
   "cell_type": "code",
   "execution_count": 1,
   "metadata": {},
   "outputs": [],
   "source": [
    "import pandas as pd\n",
    "import numpy as np\n",
    "import sklearn\n",
    "from sklearn.tree import DecisionTreeClassifier, export_graphviz\n",
    "from sklearn.tree import DecisionTreeRegressor\n",
    "import matplotlib.pyplot as plt\n",
    "import matplotlib as mpl\n",
    "from sklearn import metrics \n",
    "\n",
    "%matplotlib inline"
   ]
  },
  {
   "cell_type": "markdown",
   "metadata": {},
   "source": [
    "#### Считываем файл и проверяем на пропуски в данных"
   ]
  },
  {
   "cell_type": "code",
   "execution_count": 18,
   "metadata": {},
   "outputs": [],
   "source": [
    "data_master = pd.read_excel('Test_OOA.xlsx')"
   ]
  },
  {
   "cell_type": "code",
   "execution_count": 19,
   "metadata": {},
   "outputs": [
    {
     "data": {
      "text/html": [
       "<div>\n",
       "<style scoped>\n",
       "    .dataframe tbody tr th:only-of-type {\n",
       "        vertical-align: middle;\n",
       "    }\n",
       "\n",
       "    .dataframe tbody tr th {\n",
       "        vertical-align: top;\n",
       "    }\n",
       "\n",
       "    .dataframe thead th {\n",
       "        text-align: right;\n",
       "    }\n",
       "</style>\n",
       "<table border=\"1\" class=\"dataframe\">\n",
       "  <thead>\n",
       "    <tr style=\"text-align: right;\">\n",
       "      <th></th>\n",
       "      <th>ID заявки</th>\n",
       "      <th>Тип точки продаж</th>\n",
       "      <th>Кредит_1</th>\n",
       "      <th>Кредит_2</th>\n",
       "      <th>Kредит_3</th>\n",
       "      <th>Клиент_1</th>\n",
       "      <th>Клиент_2</th>\n",
       "      <th>Клиент_3</th>\n",
       "      <th>Клиент_4</th>\n",
       "      <th>Клиент_5</th>\n",
       "      <th>Клиент_6</th>\n",
       "      <th>Клиент_7</th>\n",
       "      <th>Флаг</th>\n",
       "    </tr>\n",
       "  </thead>\n",
       "  <tbody>\n",
       "    <tr>\n",
       "      <th>0</th>\n",
       "      <td>1</td>\n",
       "      <td>2</td>\n",
       "      <td>10</td>\n",
       "      <td>5</td>\n",
       "      <td>5</td>\n",
       "      <td>1</td>\n",
       "      <td>2</td>\n",
       "      <td>0</td>\n",
       "      <td>7</td>\n",
       "      <td>1</td>\n",
       "      <td>12</td>\n",
       "      <td>16</td>\n",
       "      <td>0</td>\n",
       "    </tr>\n",
       "    <tr>\n",
       "      <th>1</th>\n",
       "      <td>2</td>\n",
       "      <td>7</td>\n",
       "      <td>3</td>\n",
       "      <td>1</td>\n",
       "      <td>6</td>\n",
       "      <td>2</td>\n",
       "      <td>3</td>\n",
       "      <td>1</td>\n",
       "      <td>7</td>\n",
       "      <td>4</td>\n",
       "      <td>10</td>\n",
       "      <td>15</td>\n",
       "      <td>0</td>\n",
       "    </tr>\n",
       "    <tr>\n",
       "      <th>2</th>\n",
       "      <td>3</td>\n",
       "      <td>7</td>\n",
       "      <td>10</td>\n",
       "      <td>1</td>\n",
       "      <td>6</td>\n",
       "      <td>2</td>\n",
       "      <td>4</td>\n",
       "      <td>1</td>\n",
       "      <td>7</td>\n",
       "      <td>4</td>\n",
       "      <td>11</td>\n",
       "      <td>20</td>\n",
       "      <td>0</td>\n",
       "    </tr>\n",
       "    <tr>\n",
       "      <th>3</th>\n",
       "      <td>4</td>\n",
       "      <td>7</td>\n",
       "      <td>4</td>\n",
       "      <td>1</td>\n",
       "      <td>10</td>\n",
       "      <td>1</td>\n",
       "      <td>7</td>\n",
       "      <td>1</td>\n",
       "      <td>7</td>\n",
       "      <td>4</td>\n",
       "      <td>8</td>\n",
       "      <td>19</td>\n",
       "      <td>0</td>\n",
       "    </tr>\n",
       "    <tr>\n",
       "      <th>4</th>\n",
       "      <td>5</td>\n",
       "      <td>7</td>\n",
       "      <td>6</td>\n",
       "      <td>1</td>\n",
       "      <td>10</td>\n",
       "      <td>2</td>\n",
       "      <td>6</td>\n",
       "      <td>1</td>\n",
       "      <td>7</td>\n",
       "      <td>4</td>\n",
       "      <td>8</td>\n",
       "      <td>3</td>\n",
       "      <td>0</td>\n",
       "    </tr>\n",
       "  </tbody>\n",
       "</table>\n",
       "</div>"
      ],
      "text/plain": [
       "   ID заявки  Тип точки продаж  Кредит_1  Кредит_2  Kредит_3  Клиент_1  \\\n",
       "0          1                 2        10         5         5         1   \n",
       "1          2                 7         3         1         6         2   \n",
       "2          3                 7        10         1         6         2   \n",
       "3          4                 7         4         1        10         1   \n",
       "4          5                 7         6         1        10         2   \n",
       "\n",
       "   Клиент_2  Клиент_3  Клиент_4  Клиент_5  Клиент_6  Клиент_7  Флаг  \n",
       "0         2         0         7         1        12        16     0  \n",
       "1         3         1         7         4        10        15     0  \n",
       "2         4         1         7         4        11        20     0  \n",
       "3         7         1         7         4         8        19     0  \n",
       "4         6         1         7         4         8         3     0  "
      ]
     },
     "execution_count": 19,
     "metadata": {},
     "output_type": "execute_result"
    }
   ],
   "source": [
    "data_master.head()"
   ]
  },
  {
   "cell_type": "code",
   "execution_count": 20,
   "metadata": {},
   "outputs": [
    {
     "data": {
      "text/plain": [
       "False"
      ]
     },
     "execution_count": 20,
     "metadata": {},
     "output_type": "execute_result"
    }
   ],
   "source": [
    "pd.isnull(data_master).values.any()"
   ]
  },
  {
   "cell_type": "markdown",
   "metadata": {},
   "source": [
    "#### Проверим распределение классов"
   ]
  },
  {
   "cell_type": "code",
   "execution_count": 21,
   "metadata": {},
   "outputs": [
    {
     "name": "stdout",
     "output_type": "stream",
     "text": [
      "Отношение плохих заявок ко всем: 0.015509710368926819\n",
      "Всего плохих заявок: 1154\n"
     ]
    }
   ],
   "source": [
    "per = len(data_master[data_master.iloc[:,-1]==1])/len(data_master)\n",
    "print(\"Отношение плохих заявок ко всем: %s\" % per)\n",
    "print(\"Всего плохих заявок: %s\" % len(data_master[data_master.iloc[:,-1]==1]))"
   ]
  },
  {
   "cell_type": "markdown",
   "metadata": {},
   "source": [
    "Можно заметить, что данные крайне не сбалансированы, поэтому, в первую очередь, необходимо использовать balanced accuracy в качестве метрики. Кроме того, используем undersampling класса хороших заявок, чтобы сбалансировать классы."
   ]
  },
  {
   "cell_type": "markdown",
   "metadata": {},
   "source": [
    "#### Разделим данные"
   ]
  },
  {
   "cell_type": "code",
   "execution_count": 22,
   "metadata": {},
   "outputs": [],
   "source": [
    "data_master = data_master.sample(frac=1)\n",
    "data_master = data_master.drop('ID заявки', 1)\n",
    "target = data_master.iloc[:,-1]\n",
    "data = data_master.drop('Флаг', 1)"
   ]
  },
  {
   "cell_type": "code",
   "execution_count": 23,
   "metadata": {},
   "outputs": [],
   "source": [
    "from sklearn.model_selection import train_test_split\n",
    "X_train_unb, X_test_unb = train_test_split(data, train_size = 0.7, test_size= 0.3, shuffle = False)\n",
    "y_train_unb, y_test_unb = train_test_split(target, train_size = 0.7, test_size= 0.3, shuffle=False)"
   ]
  },
  {
   "cell_type": "code",
   "execution_count": 24,
   "metadata": {},
   "outputs": [
    {
     "data": {
      "text/plain": [
       "10798    0\n",
       "17319    0\n",
       "51998    1\n",
       "60802    0\n",
       "18262    0\n",
       "Name: Флаг, dtype: int64"
      ]
     },
     "execution_count": 24,
     "metadata": {},
     "output_type": "execute_result"
    }
   ],
   "source": [
    "y_test_unb.head()"
   ]
  },
  {
   "cell_type": "markdown",
   "metadata": {},
   "source": [
    "#### Обучим решающее дерево"
   ]
  },
  {
   "cell_type": "markdown",
   "metadata": {},
   "source": [
    "Дерево было выбрано мной по нескольким причинам. \n",
    "Во-первых, это алгоритм, который наиболее просто позволит интерпретировать решение в виде сегмента условий.\n",
    "Во-вторых, на вход дерева можно подавать качественные признаки без использования one-hot кодирования, при условии что они упорядочены (например, таким признаком может быть уровень дохода). \n",
    "В-третьих, дерево позволяет очевидно контролировать переобучение, огранничивая глубину дерева."
   ]
  },
  {
   "cell_type": "code",
   "execution_count": 88,
   "metadata": {},
   "outputs": [],
   "source": [
    "from sklearn.tree import DecisionTreeClassifier\n",
    "from sklearn.metrics import balanced_accuracy_score\n",
    "from sklearn.metrics import average_precision_score\n",
    "from sklearn.metrics import precision_recall_curve"
   ]
  },
  {
   "cell_type": "code",
   "execution_count": 176,
   "metadata": {},
   "outputs": [],
   "source": [
    "def train_forest(X_tr, y_tr, X_te, y_te):   \n",
    "\n",
    "    clf_r = DecisionTreeClassifier(max_depth=10, random_state = 5)\n",
    "    clf_r.fit(X_tr, y_tr)\n",
    "\n",
    "    pred = clf_r.predict(X_te)\n",
    "\n",
    "    pred_proba = clf_r.predict_proba(X_te)\n",
    "    pred_proba = pred_proba[:, 1]\n",
    "\n",
    "    for i in range(0, len(pred)):\n",
    "        if pred_proba[i]>0.5:\n",
    "            pred[i]=1\n",
    "        else: \n",
    "            pred[i]=0\n",
    "\n",
    "    bal_acc = metrics.balanced_accuracy_score(y_te, pred)\n",
    "    auc_roc = metrics.roc_auc_score(y_te, pred_proba)\n",
    "\n",
    "    #print(\"Balanced accuracy: \", bal_acc)\n",
    "    #print(\"AUC-ROC: \", auc_roc)\n",
    "    \n",
    "    return pred, clf_r, bal_acc, auc_roc"
   ]
  },
  {
   "cell_type": "code",
   "execution_count": 90,
   "metadata": {},
   "outputs": [
    {
     "name": "stdout",
     "output_type": "stream",
     "text": [
      "Balanced accuracy: 0.5098253813032536\n",
      "AUC_ROC: 0.9065275034329204\n"
     ]
    }
   ],
   "source": [
    "_, tree, bal, auc = train_forest(X_train_unb, y_train_unb, X_test_unb, y_test_unb)\n",
    "print(\"Balanced accuracy: %s\" %bal)\n",
    "print(\"AUC_ROC: %s\" %auc)"
   ]
  },
  {
   "cell_type": "markdown",
   "metadata": {},
   "source": [
    "#### Попробуем добавить undersampling, искуственно уменьшив количество \"хороших\" заявок в обучающей выборке\n",
    "Выбранное соотношение \"хороших\" заявок к \"плохим\" примерно 1 к 10 (что тоже не очень классно, но уже лучше)."
   ]
  },
  {
   "cell_type": "code",
   "execution_count": 91,
   "metadata": {},
   "outputs": [],
   "source": [
    "good_indices = data_master[data_master.iloc[:,-1] == 0].index\n",
    "random_indices = np.random.choice(good_indices, 10000, replace=False)\n",
    "good_sample = data_master.loc[random_indices]\n",
    "\n",
    "bad_sample = data_master[data_master.iloc[:,-1]==1]"
   ]
  },
  {
   "cell_type": "code",
   "execution_count": 92,
   "metadata": {},
   "outputs": [],
   "source": [
    "undersampled = good_sample.append(bad_sample)\n",
    "undersampled = undersampled.sample(frac=1)"
   ]
  },
  {
   "cell_type": "code",
   "execution_count": 93,
   "metadata": {},
   "outputs": [],
   "source": [
    "target = undersampled.iloc[:,-1]\n",
    "data = undersampled.drop('Флаг', 1)\n",
    "\n",
    "X_train, X_test = train_test_split(data, train_size = 0.7, test_size= 0.3, shuffle = False)\n",
    "y_train, y_test = train_test_split(target, train_size = 0.7, test_size= 0.3, shuffle=False)"
   ]
  },
  {
   "cell_type": "code",
   "execution_count": 253,
   "metadata": {},
   "outputs": [
    {
     "name": "stdout",
     "output_type": "stream",
     "text": [
      "Balanced accuracy: 0.7616891214322534\n",
      "AUC_ROC: 0.9374055134652787\n"
     ]
    }
   ],
   "source": [
    "prediction, tree, bal, auc = train_forest(X_train, y_train, X_test_unb, y_test_unb)\n",
    "print(\"Balanced accuracy: %s\" %bal)\n",
    "print(\"AUC_ROC: %s\" %auc)"
   ]
  },
  {
   "cell_type": "markdown",
   "metadata": {},
   "source": [
    "Качество алгоритма улучшилось!"
   ]
  },
  {
   "cell_type": "markdown",
   "metadata": {},
   "source": [
    "#### Визуализируем дерево из леса, чтобы посмотреть на признаки"
   ]
  },
  {
   "cell_type": "code",
   "execution_count": 306,
   "metadata": {},
   "outputs": [],
   "source": [
    "from sklearn.tree import export_graphviz\n",
    "\n",
    "export_graphviz(tree, out_file='tree.dot', \n",
    "                feature_names = data.columns.tolist(),\n",
    "                class_names = [\"0\", \"1\"],\n",
    "                rounded = True, proportion = False, \n",
    "                precision = 2, filled = True)\n",
    "\n",
    "\n",
    "#import os\n",
    "#os.environ[\"PATH\"] += os.pathsep + 'C:/Program Files (x86)/Graphviz2.38/bin/'\n",
    "#os.system('dot -Tpng tree.dot -o tree.png')\n",
    "\n",
    "\n",
    "#from IPython.display import Image\n",
    "#Image(filename = 'tree.png')"
   ]
  },
  {
   "cell_type": "code",
   "execution_count": 98,
   "metadata": {},
   "outputs": [
    {
     "data": {
      "text/plain": [
       "([0, 1, 2, 3, 4, 5, 6, 7, 8, 9, 10], <a list of 11 Text xticklabel objects>)"
      ]
     },
     "execution_count": 98,
     "metadata": {},
     "output_type": "execute_result"
    },
    {
     "data": {
      "image/png": "[encoded data removed]",
      "text/plain": [
       "<Figure size 432x288 with 1 Axes>"
      ]
     },
     "metadata": {},
     "output_type": "display_data"
    }
   ],
   "source": [
    "plt.bar(X_train.columns, tree.feature_importances_)\n",
    "plt.xticks(rotation=90)"
   ]
  },
  {
   "cell_type": "markdown",
   "metadata": {},
   "source": [
    "#### Будем отбирать признаки таким образом, чтобы выделить сегмент объемом не более 1/3 от всех заявок"
   ]
  },
  {
   "cell_type": "code",
   "execution_count": 277,
   "metadata": {},
   "outputs": [],
   "source": [
    "#Выделим вершины, в которые попало не больше 1/3 данных.\n",
    "\n",
    "import sklearn.tree\n",
    "import collections\n",
    "\n",
    "fitted_data = X_train\n",
    "fitting_data = X_test_unb\n",
    "predicted_data = prediction\n",
    "\n",
    "samples = collections.defaultdict(list)\n",
    "dec_paths = tree.decision_path(fitting_data)\n",
    "\n",
    "\n",
    "acceptable_nodes = np.where((tree.tree_.n_node_samples/len(fitted_data) <= 0.333)==True)[0]"
   ]
  },
  {
   "cell_type": "code",
   "execution_count": 298,
   "metadata": {},
   "outputs": [],
   "source": [
    "#создадим словарь, где ключами являются номера узлов, а значениями номера данных из выборки\n",
    "for d, dec in enumerate(dec_paths):\n",
    "    for i in range(tree.tree_.node_count):\n",
    "        if dec.toarray()[0][i]  == 1:\n",
    "            samples[i].append(d) "
   ]
  },
  {
   "cell_type": "code",
   "execution_count": 282,
   "metadata": {},
   "outputs": [],
   "source": [
    "#проверим предсказания для всех строк, попавших в подходящие нам вершины\n",
    "\n",
    "predictions_in_nodes = []\n",
    "pred = []\n",
    "\n",
    "for node in acceptable_nodes:\n",
    "    pred = []\n",
    "    samples_in_node = samples[node]\n",
    "    for sample in samples_in_node:\n",
    "        pred.append(prediction[sample])\n",
    "    total_pred = sum(pred) #quantity of bad credits in node\n",
    "    predictions_in_nodes.append(total_pred) "
   ]
  },
  {
   "cell_type": "code",
   "execution_count": 283,
   "metadata": {},
   "outputs": [
    {
     "data": {
      "text/plain": [
       "274"
      ]
     },
     "execution_count": 283,
     "metadata": {},
     "output_type": "execute_result"
    }
   ],
   "source": [
    "#выберем вершину с наибольшим количеством \"плохих\" заявок\n",
    "\n",
    "best_node = np.argmax(predictions_in_nodes)\n",
    "best_node = acceptable_nodes[best_node]\n",
    "best_node"
   ]
  },
  {
   "cell_type": "code",
   "execution_count": 284,
   "metadata": {},
   "outputs": [],
   "source": [
    "#пропарсим структуру нашего дерева\n",
    "\n",
    "n_nodes = tree.tree_.node_count\n",
    "children_left = tree.tree_.children_left\n",
    "children_right = tree.tree_.children_right\n",
    "feature = tree.tree_.feature\n",
    "threshold = tree.tree_.threshold"
   ]
  },
  {
   "cell_type": "code",
   "execution_count": 286,
   "metadata": {},
   "outputs": [
    {
     "name": "stdout",
     "output_type": "stream",
     "text": [
      "The binary tree structure has 425 nodes and has the following tree structure:\n",
      "node=0 test node: go to node 1 if X[:, 9] <= 9.5 else to node 114.\n",
      "\tnode=1 test node: go to node 2 if X[:, 9] <= 8.5 else to node 49.\n",
      "\t\tnode=2 test node: go to node 3 if X[:, 9] <= 2.5 else to node 10.\n",
      "\t\t\tnode=3 test node: go to node 4 if X[:, 2] <= 4.5 else to node 9.\n",
      "\t\t\t\tnode=4 test node: go to node 5 if X[:, 2] <= 2.0 else to node 6.\n",
      "\t\t\t\t\tnode=5 leaf node.\n",
      "\t\t\t\t\tnode=6 test node: go to node 7 if X[:, 7] <= 4.5 else to node 8.\n",
      "\t\t\t\t\t\tnode=7 leaf node.\n",
      "\t\t\t\t\t\tnode=8 leaf node.\n",
      "\t\t\t\tnode=9 leaf node.\n",
      "\t\t\tnode=10 test node: go to node 11 if X[:, 5] <= 3.5 else to node 40.\n",
      "\t\t\t\tnode=11 test node: go to node 12 if X[:, 9] <= 7.5 else to node 23.\n",
      "\t\t\t\t\tnode=12 test node: go to node 13 if X[:, 2] <= 2.5 else to node 14.\n",
      "\t\t\t\t\t\tnode=13 leaf node.\n",
      "\t\t\t\t\t\tnode=14 test node: go to node 15 if X[:, 5] <= 2.5 else to node 16.\n",
      "\t\t\t\t\t\t\tnode=15 leaf node.\n",
      "\t\t\t\t\t\t\tnode=16 test node: go to node 17 if X[:, 2] <= 3.5 else to node 22.\n",
      "\t\t\t\t\t\t\t\tnode=17 test node: go to node 18 if X[:, 10] <= 1.5 else to node 19.\n",
      "\t\t\t\t\t\t\t\t\tnode=18 leaf node.\n",
      "\t\t\t\t\t\t\t\t\tnode=19 test node: go to node 20 if X[:, 10] <= 3.0 else to node 21.\n",
      "\t\t\t\t\t\t\t\t\t\tnode=20 leaf node.\n",
      "\t\t\t\t\t\t\t\t\t\tnode=21 leaf node.\n",
      "\t\t\t\t\t\t\t\tnode=22 leaf node.\n",
      "\t\t\t\t\tnode=23 test node: go to node 24 if X[:, 1] <= 5.5 else to node 25.\n",
      "\t\t\t\t\t\tnode=24 leaf node.\n",
      "\t\t\t\t\t\tnode=25 test node: go to node 26 if X[:, 0] <= 6.5 else to node 27.\n",
      "\t\t\t\t\t\t\tnode=26 leaf node.\n",
      "\t\t\t\t\t\t\tnode=27 test node: go to node 28 if X[:, 4] <= 1.5 else to node 35.\n",
      "\t\t\t\t\t\t\t\tnode=28 test node: go to node 29 if X[:, 8] <= 1.5 else to node 32.\n",
      "\t\t\t\t\t\t\t\t\tnode=29 test node: go to node 30 if X[:, 1] <= 6.5 else to node 31.\n",
      "\t\t\t\t\t\t\t\t\t\tnode=30 leaf node.\n",
      "\t\t\t\t\t\t\t\t\t\tnode=31 leaf node.\n",
      "\t\t\t\t\t\t\t\t\tnode=32 test node: go to node 33 if X[:, 2] <= 2.5 else to node 34.\n",
      "\t\t\t\t\t\t\t\t\t\tnode=33 leaf node.\n",
      "\t\t\t\t\t\t\t\t\t\tnode=34 leaf node.\n",
      "\t\t\t\t\t\t\t\tnode=35 test node: go to node 36 if X[:, 2] <= 5.5 else to node 37.\n",
      "\t\t\t\t\t\t\t\t\tnode=36 leaf node.\n",
      "\t\t\t\t\t\t\t\t\tnode=37 test node: go to node 38 if X[:, 3] <= 8.0 else to node 39.\n",
      "\t\t\t\t\t\t\t\t\t\tnode=38 leaf node.\n",
      "\t\t\t\t\t\t\t\t\t\tnode=39 leaf node.\n",
      "\t\t\t\tnode=40 test node: go to node 41 if X[:, 7] <= 3.0 else to node 48.\n",
      "\t\t\t\t\tnode=41 test node: go to node 42 if X[:, 4] <= 1.5 else to node 43.\n",
      "\t\t\t\t\t\tnode=42 leaf node.\n",
      "\t\t\t\t\t\tnode=43 test node: go to node 44 if X[:, 10] <= 16.5 else to node 45.\n",
      "\t\t\t\t\t\t\tnode=44 leaf node.\n",
      "\t\t\t\t\t\t\tnode=45 test node: go to node 46 if X[:, 10] <= 17.5 else to node 47.\n",
      "\t\t\t\t\t\t\t\tnode=46 leaf node.\n",
      "\t\t\t\t\t\t\t\tnode=47 leaf node.\n",
      "\t\t\t\t\tnode=48 leaf node.\n",
      "\t\tnode=49 test node: go to node 50 if X[:, 1] <= 5.5 else to node 59.\n",
      "\t\t\tnode=50 test node: go to node 51 if X[:, 5] <= 2.5 else to node 58.\n",
      "\t\t\t\tnode=51 test node: go to node 52 if X[:, 6] <= 0.5 else to node 53.\n",
      "\t\t\t\t\tnode=52 leaf node.\n",
      "\t\t\t\t\tnode=53 test node: go to node 54 if X[:, 1] <= 4.5 else to node 55.\n",
      "\t\t\t\t\t\tnode=54 leaf node.\n",
      "\t\t\t\t\t\tnode=55 test node: go to node 56 if X[:, 7] <= 5.5 else to node 57.\n",
      "\t\t\t\t\t\t\tnode=56 leaf node.\n",
      "\t\t\t\t\t\t\tnode=57 leaf node.\n",
      "\t\t\t\tnode=58 leaf node.\n",
      "\t\t\tnode=59 test node: go to node 60 if X[:, 0] <= 6.5 else to node 67.\n",
      "\t\t\t\tnode=60 test node: go to node 61 if X[:, 10] <= 5.5 else to node 66.\n",
      "\t\t\t\t\tnode=61 test node: go to node 62 if X[:, 10] <= 4.5 else to node 63.\n",
      "\t\t\t\t\t\tnode=62 leaf node.\n",
      "\t\t\t\t\t\tnode=63 test node: go to node 64 if X[:, 5] <= 4.5 else to node 65.\n",
      "\t\t\t\t\t\t\tnode=64 leaf node.\n",
      "\t\t\t\t\t\t\tnode=65 leaf node.\n",
      "\t\t\t\t\tnode=66 leaf node.\n",
      "\t\t\t\tnode=67 test node: go to node 68 if X[:, 8] <= 1.5 else to node 93.\n",
      "\t\t\t\t\tnode=68 test node: go to node 69 if X[:, 5] <= 2.5 else to node 70.\n",
      "\t\t\t\t\t\tnode=69 leaf node.\n",
      "\t\t\t\t\t\tnode=70 test node: go to node 71 if X[:, 10] <= 16.5 else to node 86.\n",
      "\t\t\t\t\t\t\tnode=71 test node: go to node 72 if X[:, 2] <= 2.0 else to node 79.\n",
      "\t\t\t\t\t\t\t\tnode=72 test node: go to node 73 if X[:, 5] <= 6.0 else to node 76.\n",
      "\t\t\t\t\t\t\t\t\tnode=73 test node: go to node 74 if X[:, 10] <= 3.5 else to node 75.\n",
      "\t\t\t\t\t\t\t\t\t\tnode=74 leaf node.\n",
      "\t\t\t\t\t\t\t\t\t\tnode=75 leaf node.\n",
      "\t\t\t\t\t\t\t\t\tnode=76 test node: go to node 77 if X[:, 1] <= 6.5 else to node 78.\n",
      "\t\t\t\t\t\t\t\t\t\tnode=77 leaf node.\n",
      "\t\t\t\t\t\t\t\t\t\tnode=78 leaf node.\n",
      "\t\t\t\t\t\t\t\tnode=79 test node: go to node 80 if X[:, 1] <= 7.5 else to node 83.\n",
      "\t\t\t\t\t\t\t\t\tnode=80 test node: go to node 81 if X[:, 10] <= 6.0 else to node 82.\n",
      "\t\t\t\t\t\t\t\t\t\tnode=81 leaf node.\n",
      "\t\t\t\t\t\t\t\t\t\tnode=82 leaf node.\n",
      "\t\t\t\t\t\t\t\t\tnode=83 test node: go to node 84 if X[:, 4] <= 1.5 else to node 85.\n",
      "\t\t\t\t\t\t\t\t\t\tnode=84 leaf node.\n",
      "\t\t\t\t\t\t\t\t\t\tnode=85 leaf node.\n",
      "\t\t\t\t\t\t\tnode=86 test node: go to node 87 if X[:, 5] <= 4.5 else to node 92.\n",
      "\t\t\t\t\t\t\t\tnode=87 test node: go to node 88 if X[:, 4] <= 1.5 else to node 91.\n",
      "\t\t\t\t\t\t\t\t\tnode=88 test node: go to node 89 if X[:, 2] <= 3.5 else to node 90.\n",
      "\t\t\t\t\t\t\t\t\t\tnode=89 leaf node.\n",
      "\t\t\t\t\t\t\t\t\t\tnode=90 leaf node.\n",
      "\t\t\t\t\t\t\t\t\tnode=91 leaf node.\n",
      "\t\t\t\t\t\t\t\tnode=92 leaf node.\n",
      "\t\t\t\t\tnode=93 test node: go to node 94 if X[:, 10] <= 3.5 else to node 95.\n",
      "\t\t\t\t\t\tnode=94 leaf node.\n",
      "\t\t\t\t\t\tnode=95 test node: go to node 96 if X[:, 2] <= 3.5 else to node 107.\n",
      "\t\t\t\t\t\t\tnode=96 test node: go to node 97 if X[:, 10] <= 4.5 else to node 102.\n",
      "\t\t\t\t\t\t\t\tnode=97 test node: go to node 98 if X[:, 6] <= 0.5 else to node 99.\n",
      "\t\t\t\t\t\t\t\t\tnode=98 leaf node.\n",
      "\t\t\t\t\t\t\t\t\tnode=99 test node: go to node 100 if X[:, 4] <= 1.5 else to node 101.\n",
      "\t\t\t\t\t\t\t\t\t\tnode=100 leaf node.\n",
      "\t\t\t\t\t\t\t\t\t\tnode=101 leaf node.\n",
      "\t\t\t\t\t\t\t\tnode=102 test node: go to node 103 if X[:, 1] <= 8.5 else to node 106.\n",
      "\t\t\t\t\t\t\t\t\tnode=103 test node: go to node 104 if X[:, 1] <= 7.5 else to node 105.\n",
      "\t\t\t\t\t\t\t\t\t\tnode=104 leaf node.\n",
      "\t\t\t\t\t\t\t\t\t\tnode=105 leaf node.\n",
      "\t\t\t\t\t\t\t\t\tnode=106 leaf node.\n",
      "\t\t\t\t\t\t\tnode=107 test node: go to node 108 if X[:, 5] <= 2.5 else to node 109.\n",
      "\t\t\t\t\t\t\t\tnode=108 leaf node.\n",
      "\t\t\t\t\t\t\t\tnode=109 test node: go to node 110 if X[:, 2] <= 5.5 else to node 113.\n",
      "\t\t\t\t\t\t\t\t\tnode=110 test node: go to node 111 if X[:, 10] <= 7.5 else to node 112.\n",
      "\t\t\t\t\t\t\t\t\t\tnode=111 leaf node.\n",
      "\t\t\t\t\t\t\t\t\t\tnode=112 leaf node.\n",
      "\t\t\t\t\t\t\t\t\tnode=113 leaf node.\n",
      "\tnode=114 test node: go to node 115 if X[:, 0] <= 6.5 else to node 234.\n",
      "\t\tnode=115 test node: go to node 116 if X[:, 2] <= 2.5 else to node 175.\n",
      "\t\t\tnode=116 test node: go to node 117 if X[:, 0] <= 4.5 else to node 152.\n",
      "\t\t\t\tnode=117 test node: go to node 118 if X[:, 0] <= 2.5 else to node 151.\n",
      "\t\t\t\t\tnode=118 test node: go to node 119 if X[:, 1] <= 11.5 else to node 132.\n",
      "\t\t\t\t\t\tnode=119 test node: go to node 120 if X[:, 3] <= 16.5 else to node 127.\n",
      "\t\t\t\t\t\t\tnode=120 test node: go to node 121 if X[:, 1] <= 7.5 else to node 122.\n",
      "\t\t\t\t\t\t\t\tnode=121 leaf node.\n",
      "\t\t\t\t\t\t\t\tnode=122 test node: go to node 123 if X[:, 8] <= 3.0 else to node 124.\n",
      "\t\t\t\t\t\t\t\t\tnode=123 leaf node.\n",
      "\t\t\t\t\t\t\t\t\tnode=124 test node: go to node 125 if X[:, 3] <= 8.0 else to node 126.\n",
      "\t\t\t\t\t\t\t\t\t\tnode=125 leaf node.\n",
      "\t\t\t\t\t\t\t\t\t\tnode=126 leaf node.\n",
      "\t\t\t\t\t\t\tnode=127 test node: go to node 128 if X[:, 1] <= 7.0 else to node 129.\n",
      "\t\t\t\t\t\t\t\tnode=128 leaf node.\n",
      "\t\t\t\t\t\t\t\tnode=129 test node: go to node 130 if X[:, 9] <= 12.5 else to node 131.\n",
      "\t\t\t\t\t\t\t\t\tnode=130 leaf node.\n",
      "\t\t\t\t\t\t\t\t\tnode=131 leaf node.\n",
      "\t\t\t\t\t\tnode=132 test node: go to node 133 if X[:, 3] <= 5.5 else to node 140.\n",
      "\t\t\t\t\t\t\tnode=133 test node: go to node 134 if X[:, 5] <= 3.5 else to node 139.\n",
      "\t\t\t\t\t\t\t\tnode=134 test node: go to node 135 if X[:, 9] <= 14.0 else to node 136.\n",
      "\t\t\t\t\t\t\t\t\tnode=135 leaf node.\n",
      "\t\t\t\t\t\t\t\t\tnode=136 test node: go to node 137 if X[:, 10] <= 17.5 else to node 138.\n",
      "\t\t\t\t\t\t\t\t\t\tnode=137 leaf node.\n",
      "\t\t\t\t\t\t\t\t\t\tnode=138 leaf node.\n",
      "\t\t\t\t\t\t\t\tnode=139 leaf node.\n",
      "\t\t\t\t\t\t\tnode=140 test node: go to node 141 if X[:, 1] <= 12.5 else to node 146.\n",
      "\t\t\t\t\t\t\t\tnode=141 test node: go to node 142 if X[:, 10] <= 15.5 else to node 145.\n",
      "\t\t\t\t\t\t\t\t\tnode=142 test node: go to node 143 if X[:, 6] <= 0.5 else to node 144.\n",
      "\t\t\t\t\t\t\t\t\t\tnode=143 leaf node.\n",
      "\t\t\t\t\t\t\t\t\t\tnode=144 leaf node.\n",
      "\t\t\t\t\t\t\t\t\tnode=145 leaf node.\n",
      "\t\t\t\t\t\t\t\tnode=146 test node: go to node 147 if X[:, 7] <= 6.5 else to node 148.\n",
      "\t\t\t\t\t\t\t\t\tnode=147 leaf node.\n",
      "\t\t\t\t\t\t\t\t\tnode=148 test node: go to node 149 if X[:, 1] <= 14.5 else to node 150.\n",
      "\t\t\t\t\t\t\t\t\t\tnode=149 leaf node.\n",
      "\t\t\t\t\t\t\t\t\t\tnode=150 leaf node.\n",
      "\t\t\t\t\tnode=151 leaf node.\n",
      "\t\t\t\tnode=152 test node: go to node 153 if X[:, 1] <= 2.5 else to node 154.\n",
      "\t\t\t\t\tnode=153 leaf node.\n",
      "\t\t\t\t\tnode=154 test node: go to node 155 if X[:, 9] <= 10.5 else to node 166.\n",
      "\t\t\t\t\t\tnode=155 test node: go to node 156 if X[:, 8] <= 1.5 else to node 165.\n",
      "\t\t\t\t\t\t\tnode=156 test node: go to node 157 if X[:, 1] <= 15.5 else to node 162.\n",
      "\t\t\t\t\t\t\t\tnode=157 test node: go to node 158 if X[:, 10] <= 8.0 else to node 161.\n",
      "\t\t\t\t\t\t\t\t\tnode=158 test node: go to node 159 if X[:, 4] <= 1.5 else to node 160.\n",
      "\t\t\t\t\t\t\t\t\t\tnode=159 leaf node.\n",
      "\t\t\t\t\t\t\t\t\t\tnode=160 leaf node.\n",
      "\t\t\t\t\t\t\t\t\tnode=161 leaf node.\n",
      "\t\t\t\t\t\t\t\tnode=162 test node: go to node 163 if X[:, 5] <= 4.5 else to node 164.\n",
      "\t\t\t\t\t\t\t\t\tnode=163 leaf node.\n",
      "\t\t\t\t\t\t\t\t\tnode=164 leaf node.\n",
      "\t\t\t\t\t\t\tnode=165 leaf node.\n",
      "\t\t\t\t\t\tnode=166 test node: go to node 167 if X[:, 1] <= 8.5 else to node 174.\n",
      "\t\t\t\t\t\t\tnode=167 test node: go to node 168 if X[:, 5] <= 5.5 else to node 173.\n",
      "\t\t\t\t\t\t\t\tnode=168 test node: go to node 169 if X[:, 5] <= 4.5 else to node 172.\n",
      "\t\t\t\t\t\t\t\t\tnode=169 test node: go to node 170 if X[:, 1] <= 6.5 else to node 171.\n",
      "\t\t\t\t\t\t\t\t\t\tnode=170 leaf node.\n",
      "\t\t\t\t\t\t\t\t\t\tnode=171 leaf node.\n",
      "\t\t\t\t\t\t\t\t\tnode=172 leaf node.\n",
      "\t\t\t\t\t\t\t\tnode=173 leaf node.\n",
      "\t\t\t\t\t\t\tnode=174 leaf node.\n",
      "\t\t\tnode=175 test node: go to node 176 if X[:, 9] <= 14.5 else to node 223.\n",
      "\t\t\t\tnode=176 test node: go to node 177 if X[:, 10] <= 18.5 else to node 216.\n",
      "\t\t\t\t\tnode=177 test node: go to node 178 if X[:, 1] <= 6.5 else to node 193.\n",
      "\t\t\t\t\t\tnode=178 test node: go to node 179 if X[:, 3] <= 8.5 else to node 186.\n",
      "\t\t\t\t\t\t\tnode=179 test node: go to node 180 if X[:, 9] <= 12.5 else to node 181.\n",
      "\t\t\t\t\t\t\t\tnode=180 leaf node.\n",
      "\t\t\t\t\t\t\t\tnode=181 test node: go to node 182 if X[:, 5] <= 4.5 else to node 185.\n",
      "\t\t\t\t\t\t\t\t\tnode=182 test node: go to node 183 if X[:, 5] <= 3.5 else to node 184.\n",
      "\t\t\t\t\t\t\t\t\t\tnode=183 leaf node.\n",
      "\t\t\t\t\t\t\t\t\t\tnode=184 leaf node.\n",
      "\t\t\t\t\t\t\t\t\tnode=185 leaf node.\n",
      "\t\t\t\t\t\t\tnode=186 test node: go to node 187 if X[:, 10] <= 14.5 else to node 192.\n",
      "\t\t\t\t\t\t\t\tnode=187 test node: go to node 188 if X[:, 2] <= 5.5 else to node 191.\n",
      "\t\t\t\t\t\t\t\t\tnode=188 test node: go to node 189 if X[:, 0] <= 3.5 else to node 190.\n",
      "\t\t\t\t\t\t\t\t\t\tnode=189 leaf node.\n",
      "\t\t\t\t\t\t\t\t\t\tnode=190 leaf node.\n",
      "\t\t\t\t\t\t\t\t\tnode=191 leaf node.\n",
      "\t\t\t\t\t\t\t\tnode=192 leaf node.\n",
      "\t\t\t\t\t\tnode=193 test node: go to node 194 if X[:, 1] <= 13.5 else to node 207.\n",
      "\t\t\t\t\t\t\tnode=194 test node: go to node 195 if X[:, 5] <= 3.5 else to node 202.\n",
      "\t\t\t\t\t\t\t\tnode=195 test node: go to node 196 if X[:, 3] <= 21.5 else to node 199.\n",
      "\t\t\t\t\t\t\t\t\tnode=196 test node: go to node 197 if X[:, 1] <= 7.5 else to node 198.\n",
      "\t\t\t\t\t\t\t\t\t\tnode=197 leaf node.\n",
      "\t\t\t\t\t\t\t\t\t\tnode=198 leaf node.\n",
      "\t\t\t\t\t\t\t\t\tnode=199 test node: go to node 200 if X[:, 9] <= 10.5 else to node 201.\n",
      "\t\t\t\t\t\t\t\t\t\tnode=200 leaf node.\n",
      "\t\t\t\t\t\t\t\t\t\tnode=201 leaf node.\n",
      "\t\t\t\t\t\t\t\tnode=202 test node: go to node 203 if X[:, 2] <= 5.5 else to node 206.\n",
      "\t\t\t\t\t\t\t\t\tnode=203 test node: go to node 204 if X[:, 7] <= 6.5 else to node 205.\n",
      "\t\t\t\t\t\t\t\t\t\tnode=204 leaf node.\n",
      "\t\t\t\t\t\t\t\t\t\tnode=205 leaf node.\n",
      "\t\t\t\t\t\t\t\t\tnode=206 leaf node.\n",
      "\t\t\t\t\t\t\tnode=207 test node: go to node 208 if X[:, 6] <= 0.5 else to node 213.\n",
      "\t\t\t\t\t\t\t\tnode=208 test node: go to node 209 if X[:, 2] <= 4.5 else to node 210.\n",
      "\t\t\t\t\t\t\t\t\tnode=209 leaf node.\n",
      "\t\t\t\t\t\t\t\t\tnode=210 test node: go to node 211 if X[:, 9] <= 12.5 else to node 212.\n",
      "\t\t\t\t\t\t\t\t\t\tnode=211 leaf node.\n",
      "\t\t\t\t\t\t\t\t\t\tnode=212 leaf node.\n",
      "\t\t\t\t\t\t\t\tnode=213 test node: go to node 214 if X[:, 5] <= 5.5 else to node 215.\n",
      "\t\t\t\t\t\t\t\t\tnode=214 leaf node.\n",
      "\t\t\t\t\t\t\t\t\tnode=215 leaf node.\n",
      "\t\t\t\t\tnode=216 test node: go to node 217 if X[:, 5] <= 3.5 else to node 222.\n",
      "\t\t\t\t\t\tnode=217 test node: go to node 218 if X[:, 1] <= 12.5 else to node 219.\n",
      "\t\t\t\t\t\t\tnode=218 leaf node.\n",
      "\t\t\t\t\t\t\tnode=219 test node: go to node 220 if X[:, 1] <= 15.0 else to node 221.\n",
      "\t\t\t\t\t\t\t\tnode=220 leaf node.\n",
      "\t\t\t\t\t\t\t\tnode=221 leaf node.\n",
      "\t\t\t\t\t\tnode=222 leaf node.\n",
      "\t\t\t\tnode=223 test node: go to node 224 if X[:, 3] <= 4.5 else to node 233.\n",
      "\t\t\t\t\tnode=224 test node: go to node 225 if X[:, 9] <= 15.5 else to node 232.\n",
      "\t\t\t\t\t\tnode=225 test node: go to node 226 if X[:, 5] <= 3.5 else to node 231.\n",
      "\t\t\t\t\t\t\tnode=226 test node: go to node 227 if X[:, 10] <= 12.5 else to node 228.\n",
      "\t\t\t\t\t\t\t\tnode=227 leaf node.\n",
      "\t\t\t\t\t\t\t\tnode=228 test node: go to node 229 if X[:, 6] <= 0.5 else to node 230.\n",
      "\t\t\t\t\t\t\t\t\tnode=229 leaf node.\n",
      "\t\t\t\t\t\t\t\t\tnode=230 leaf node.\n",
      "\t\t\t\t\t\t\tnode=231 leaf node.\n",
      "\t\t\t\t\t\tnode=232 leaf node.\n",
      "\t\t\t\t\tnode=233 leaf node.\n",
      "\t\tnode=234 test node: go to node 235 if X[:, 1] <= 4.5 else to node 274.\n",
      "\n"
     ]
    }
   ],
   "source": [
    "#оформим структуру дерева в виде текста, чтобы потом найти в нем путь до нужной вершины\n",
    "\n",
    "node_depth = np.zeros(shape=n_nodes, dtype=np.int64)\n",
    "is_leaves = np.zeros(shape=n_nodes, dtype=bool)\n",
    "stack = [(0, -1)]  # seed is the root node id and its parent depth\n",
    "while len(stack) > 0:\n",
    "    node_id, parent_depth = stack.pop()\n",
    "    node_depth[node_id] = parent_depth + 1\n",
    "\n",
    "    # If we have a test node\n",
    "    if (children_left[node_id] != children_right[node_id]):\n",
    "        stack.append((children_left[node_id], parent_depth + 1))\n",
    "        stack.append((children_right[node_id], parent_depth + 1))\n",
    "    else:\n",
    "        is_leaves[node_id] = True\n",
    "\n",
    "print(\"The binary tree structure has %s nodes and has \"\n",
    "      \"the following tree structure:\"\n",
    "      % n_nodes)\n",
    "for i in range(n_nodes):\n",
    "    if is_leaves[i]:\n",
    "        print(\"%snode=%s leaf node.\" % (node_depth[i] * \"\\t\", i))\n",
    "    else:\n",
    "        print(\"%snode=%s test node: go to node %s if X[:, %s] <= %s else to \"\n",
    "              \"node %s.\"\n",
    "              % (node_depth[i] * \"\\t\",\n",
    "                 i,\n",
    "                 children_left[i],\n",
    "                 feature[i],\n",
    "                 threshold[i],\n",
    "                 children_right[i],\n",
    "                 ))\n",
    "        if (children_left[i]==best_node or children_right[i]==best_node):\n",
    "            break\n",
    "print()"
   ]
  },
  {
   "cell_type": "markdown",
   "metadata": {},
   "source": [
    "Из структуры можно вывести сегмент в виде: \n",
    "\n",
    "«Клиент_6 in [10, 31] AND Тип точки продаж in [5, 10] AND Кредит_1 in [7, 30]»"
   ]
  },
  {
   "cell_type": "code",
   "execution_count": 305,
   "metadata": {},
   "outputs": [
    {
     "name": "stdout",
     "output_type": "stream",
     "text": [
      "Всего плохих заявок в сегменте: 701\n"
     ]
    }
   ],
   "source": [
    "#проверим, какое количество \"плохих\" заявок находится в выделенном сегменте\n",
    "\n",
    "test = data_master[data_master['Клиент_6']>9]\n",
    "test = test[test['Тип точки продаж']>4]\n",
    "test = test[test['Кредит_1']>6]\n",
    "print(\"Всего плохих заявок в сегменте: %s\" %sum(test['Флаг']))"
   ]
  }
 ],
 "metadata": {
  "kernelspec": {
   "display_name": "Python 3",
   "language": "python",
   "name": "python3"
  },
  "language_info": {
   "codemirror_mode": {
    "name": "ipython",
    "version": 3
   },
   "file_extension": ".py",
   "mimetype": "text/x-python",
   "name": "python",
   "nbconvert_exporter": "python",
   "pygments_lexer": "ipython3",
   "version": "3.6.5"
  }
 },
 "nbformat": 4,
 "nbformat_minor": 2
}
